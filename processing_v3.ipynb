{
 "cells": [
  {
   "cell_type": "markdown",
   "metadata": {},
   "source": [
    "#### Development of Employment figures in relation to gender in Austria from 2013 to 2022\n",
    "University of Salzburg; IPSDI W24/25  \n",
    "Last update: 07/01/2025  \n",
    "Adana Mirzoyan and Ethel Ogallo  "
   ]
  },
  {
   "cell_type": "markdown",
   "metadata": {},
   "source": [
    "Pre-processing and Processing  \n",
    "Data and sources:  \n",
    "* NUTS regions shapefile from Eurostat [https://ec.europa.eu/eurostat/web/gisco/geodata/statistical-units/territorial-units-statistics]\n",
    "* Classification of rural and urban areas at NUTS3 level from Statistik  Austria [https://www.statistik.at/atlas/?mapid=topo_stadt_land&languageid=1]\n",
    "* Employment data by gender form Statistik Austria [https://www.statistik.at/atlas/?mapid=topo_stadt_land&languageid=1]"
   ]
  },
  {
   "cell_type": "code",
   "execution_count": 1,
   "metadata": {},
   "outputs": [],
   "source": [
    "# libraries\n",
    "import geopandas as gpd\n",
    "import pandas as pd\n",
    "import os"
   ]
  },
  {
   "cell_type": "markdown",
   "metadata": {},
   "source": [
    "Load the data downloaded from the sources for processing. View the structure of the datasets to identifz what is needed and what is not needed. "
   ]
  },
  {
   "cell_type": "code",
   "execution_count": 3,
   "metadata": {},
   "outputs": [
    {
     "name": "stdout",
     "output_type": "stream",
     "text": [
      "   NUTS_ID                NUTS_NAME  \\\n",
      "93   AT111         Mittelburgenland   \n",
      "94   AT112           Nordburgenland   \n",
      "95   AT113            Südburgenland   \n",
      "96   AT121  Mostviertel-Eisenwurzen   \n",
      "97   AT122     Niederösterreich-Süd   \n",
      "\n",
      "                                             geometry  \n",
      "93  POLYGON ((1853048.743 6015277.17, 1841177.225 ...  \n",
      "94  POLYGON ((1824661.549 6087262.951, 1841177.225...  \n",
      "95  POLYGON ((1829397.983 5999870.843, 1831889.589...  \n",
      "96  POLYGON ((1694063.316 6072668.513, 1679599.198...  \n",
      "97  POLYGON ((1707514.893 6088554.48, 1733109.016 ...  \n"
     ]
    }
   ],
   "source": [
    "# Austria NUTS regions\n",
    "nuts_filepath = \"Data/NUTS_RG_20M_2024_3857.shp/NUTS_RG_20M_2024_3857.shp\" #change to relative path\n",
    "nuts = gpd.read_file(nuts_filepath)\n",
    "\n",
    "# Filter for NUTS 3 region\n",
    "nuts3 = nuts[(nuts['LEVL_CODE'] == 3) & (nuts['CNTR_CODE'] == 'AT')] \n",
    "\n",
    "# keep relevant columns \n",
    "nuts3_df = nuts3[['NUTS_ID', 'NUTS_NAME','geometry']]\n",
    "print(nuts3_df.head(5))"
   ]
  },
  {
   "cell_type": "markdown",
   "metadata": {},
   "source": [
    "The classification of the NUTS 3 region is in 3 classess: PU(Predominantly Urban), IN and PR(Predominantly Rural). We will simplify teh classification by reclassifying into two classes; Rural and Urban."
   ]
  },
  {
   "cell_type": "code",
   "execution_count": 5,
   "metadata": {},
   "outputs": [
    {
     "name": "stdout",
     "output_type": "stream",
     "text": [
      "      ID                     Name region\n",
      "0  AT111         Mittelburgenland  Rural\n",
      "1  AT112           Nordburgenland  Rural\n",
      "2  AT113            Südburgenland  Rural\n",
      "3  AT121  Mostviertel-Eisenwurzen  Rural\n",
      "4  AT122     Niederösterreich-Süd  Urban\n"
     ]
    }
   ],
   "source": [
    "# Rural-Urban classification at NUTS 3 level\n",
    "region_filepath = \"Data/classifications_of_urban_and_rural_areas.xlsx\"\n",
    "region_df = pd.read_excel(region_filepath, header = 2)\n",
    "\n",
    "# Rename classifications\n",
    "region_df['region'] = region_df['Value'].replace({'PU': 'Urban', 'IN': 'Urban', 'PR': 'Rural'})\n",
    "\n",
    "# keep relevant columns \n",
    "region_df = region_df[['ID', 'Name','region']]\n",
    "print(region_df.head(5))"
   ]
  },
  {
   "cell_type": "markdown",
   "metadata": {},
   "source": [
    "The employment dataset by gender was downloaded as different datasets per year per gender for teh 10 year period. We merged the datasets and organized it by gender into one comprehensive dataset."
   ]
  },
  {
   "cell_type": "code",
   "execution_count": 6,
   "metadata": {},
   "outputs": [
    {
     "name": "stdout",
     "output_type": "stream",
     "text": [
      "    ID                 Name  num_employed  Year Gender\n",
      "0  101    Eisenstadt(Stadt)          3249  2013   Male\n",
      "1  102          Rust(Stadt)           459  2013   Male\n",
      "2  103  Eisenstadt-Umgebung         10529  2013   Male\n",
      "3  104              Güssing          6479  2013   Male\n",
      "4  105          Jennersdorf          4581  2013   Male\n"
     ]
    }
   ],
   "source": [
    "# Employment data by gender at political district level\n",
    "\n",
    "# file path of teh folder with all the excel files\n",
    "employment_data_folder = \"Data/employment data tables\"\n",
    "\n",
    "# List to store individual DataFrames\n",
    "dataframes = []\n",
    "\n",
    "# Load all Excel files\n",
    "for file in os.listdir(employment_data_folder):\n",
    "    if file.endswith(\".xlsx\"):\n",
    "        filepath = os.path.join(employment_data_folder, file)\n",
    "        df = pd.read_excel(filepath, header=2)  \n",
    "        # Extract year and gender from the filename\n",
    "        year = int(file.split('_')[5].replace(\".xlsx\", \"\"))  # Extract year\n",
    "        gender = file.split('_')[4]  # Extract 'total', 'male', or 'female'\n",
    "        df['Year'] = year\n",
    "        df['Gender'] = gender\n",
    "        dataframes.append(df)\n",
    "\n",
    "# Concatenate all DataFrames into one\n",
    "employment_df = pd.concat(dataframes, ignore_index=True)\n",
    "\n",
    "# Rename gender\n",
    "employment_df['Gender'] = employment_df['Gender'].replace({'men': 'Male', 'women': 'Female'})\n",
    "\n",
    "# keep relevant columns \n",
    "employment_df = employment_df.drop(columns=['%'])\n",
    "employment_df = employment_df.rename(columns={'abs.': 'num_employed'})\n",
    "\n",
    "# Check the result\n",
    "print(employment_df.head())"
   ]
  },
  {
   "cell_type": "markdown",
   "metadata": {},
   "source": [
    "The employment dataset has the regions as districts and inorder to classify the employment figures by rural and urban, we reclassified the employment figures into the NUTS 3 regions. Each district belongs to a specific NUTS 3 region with a specific code."
   ]
  },
  {
   "cell_type": "code",
   "execution_count": 7,
   "metadata": {},
   "outputs": [
    {
     "name": "stdout",
     "output_type": "stream",
     "text": [
      "['Eisenstadt(Stadt)' 'Rust(Stadt)' 'Eisenstadt-Umgebung' 'Güssing'\n",
      " 'Jennersdorf' 'Mattersburg' 'Neusiedl am See' 'Oberpullendorf' 'Oberwart'\n",
      " 'Klagenfurt Stadt' 'Villach Stadt' 'Hermagor' 'Klagenfurt Land'\n",
      " 'Sankt Veit an der Glan' 'Spittal an der Drau' 'Villach Land'\n",
      " 'Völkermarkt' 'Wolfsberg' 'Feldkirchen' 'Krems an der Donau(Stadt)'\n",
      " 'Sankt Pölten(Stadt)' 'Waidhofen an der Ybbs(Stadt)'\n",
      " 'Wiener Neustadt(Stadt)' 'Amstetten' 'Baden' 'Bruck an der Leitha'\n",
      " 'Gänserndorf' 'Gmünd' 'Hollabrunn' 'Horn' 'Korneuburg' 'Krems(Land)'\n",
      " 'Lilienfeld' 'Melk' 'Mistelbach' 'Mödling' 'Neunkirchen'\n",
      " 'Sankt Pölten(Land)' 'Scheibbs' 'Tulln' 'Waidhofen an der Thaya'\n",
      " 'Wiener Neustadt(Land)' 'Zwettl' 'Stadt Linz' 'Stadt Steyr' 'Stadt Wels'\n",
      " 'Braunau' 'Eferding' 'Freistadt' 'Gmunden' 'Grieskirchen' 'Kirchdorf'\n",
      " 'Linz-Land' 'Perg' 'Ried' 'Rohrbach' 'Schärding' 'Steyr-Land'\n",
      " 'Urfahr-Umgebung' 'Vöcklabruck' 'Wels-Land' 'Salzburg(Stadt)' 'Hallein'\n",
      " 'Salzburg-Umgebung' 'St. Johann im Pongau' 'Tamsweg' 'Zell am See'\n",
      " 'Graz(Stadt)' 'Deutschlandsberg' 'Graz-Umgebung' 'Leibnitz' 'Leoben'\n",
      " 'Liezen' 'Murau' 'Voitsberg' 'Weiz' 'Murtal' 'Bruck-Mürzzuschlag'\n",
      " 'Hartberg-Fürstenfeld' 'Südoststeiermark' 'Innsbruck-Stadt' 'Imst'\n",
      " 'Innsbruck-Land' 'Kitzbühel' 'Kufstein' 'Landeck' 'Lienz' 'Reutte'\n",
      " 'Schwaz' 'Bludenz' 'Bregenz' 'Dornbirn' 'Feldkirch' 'Wien(Stadt)']\n"
     ]
    }
   ],
   "source": [
    "# Get all unique district names from the 'Name' column\n",
    "unique_names = employment_df['Name'].unique()\n",
    "\n",
    "# Display the unique names\n",
    "print(unique_names)"
   ]
  },
  {
   "cell_type": "code",
   "execution_count": 8,
   "metadata": {},
   "outputs": [
    {
     "name": "stdout",
     "output_type": "stream",
     "text": [
      "  NUTS3_ID  Year  Gender  num_employed\n",
      "0    AT111  2013  Female          7816\n",
      "1    AT111  2013    Male          9332\n",
      "2    AT111  2013   total         17148\n",
      "3    AT111  2014  Female          7746\n",
      "4    AT111  2014    Male          9254\n"
     ]
    }
   ],
   "source": [
    "# District aggregation to NUTS 3 mapping \n",
    "district_to_nuts3 = {\n",
    "    # Burgenland\n",
    "    \"Eisenstadt(Stadt)\": \"AT112\", \"Rust(Stadt)\": \"AT112\", \"Eisenstadt-Umgebung\": \"AT112\", \"Güssing\": \"AT113\",\n",
    "    \"Jennersdorf\": \"AT113\", \"Mattersburg\": \"AT112\", \"Neusiedl am See\": \"AT112\", \"Oberpullendorf\": \"AT111\", \n",
    "    \"Oberwart\": \"AT113\",\n",
    "\n",
    "    # Kärnten (Carinthia)\n",
    "    \"Klagenfurt Stadt\": \"AT211\", \"Villach Stadt\": \"AT211\", \"Hermagor\": \"AT212\", \"Klagenfurt Land\": \"AT211\", \n",
    "    \"Sankt Veit an der Glan\": \"AT213\", \"Spittal an der Drau\": \"AT212\", \"Villach Land\": \"AT211\", \"Völkermarkt\": \"AT213\", \n",
    "    \"Wolfsberg\": \"AT213\", \"Feldkirchen\": \"AT212\",\n",
    "\n",
    "    # Niederösterreich (Lower Austria)\n",
    "    \"Krems an der Donau(Stadt)\": \"AT124\", \"Sankt Pölten(Stadt)\": \"AT123\", \"Waidhofen an der Ybbs(Stadt)\": \"AT121\", \n",
    "    \"Wiener Neustadt(Stadt)\": \"AT122\", \"Amstetten\": \"AT121\", \"Baden\": \"AT127\", \"Bruck an der Leitha\": \"AT127\", \n",
    "    \"Gänserndorf\": \"AT126\", \"Gmünd\": \"AT124\", \"Hollabrunn\": \"AT125\", \"Horn\": \"AT124\", \"Korneuburg\": \"AT126\", \n",
    "    \"Krems(Land)\": \"AT124\", \"Lilienfeld\": \"AT122\", \"Melk\": \"AT121\", \"Mistelbach\": \"AT125\", \"Mödling\": \"AT127\", \n",
    "    \"Neunkirchen\": \"AT122\", \"Sankt Pölten(Land)\": \"AT123\", \"Scheibbs\": \"AT121\", \"Tulln\": \"AT126\", \"Waidhofen an der Thaya\": \"AT124\", \n",
    "    \"Wiener Neustadt(Land)\": \"AT122\", \"Zwettl\": \"AT124\",\n",
    "\n",
    "    # Oberösterreich (Upper Austria)\n",
    "    \"Stadt Linz\": \"AT312\", \"Stadt Steyr\": \"AT314\", \"Stadt Wels\": \"AT312\", \"Braunau\": \"AT311\", \"Eferding\": \"AT312\", \n",
    "    \"Freistadt\": \"AT313\", \"Gmunden\": \"AT315\", \"Grieskirchen\": \"AT311\", \"Kirchdorf\": \"AT314\", \"Linz-Land\": \"AT312\", \n",
    "    \"Perg\": \"AT313\", \"Ried\": \"AT311\", \"Rohrbach\": \"AT313\", \"Schärding\": \"AT311\", \"Steyr-Land\": \"AT314\", \n",
    "    \"Urfahr-Umgebung\": \"AT313\", \"Vöcklabruck\": \"AT315\", \"Wels-Land\": \"AT312\",\n",
    "\n",
    "    # Salzburg\n",
    "    \"Salzburg(Stadt)\": \"AT323\", \"Hallein\": \"AT323\", \"Salzburg-Umgebung\": \"AT323\", \"St. Johann im Pongau\": \"AT322\", \n",
    "    \"Tamsweg\": \"AT321\", \"Zell am See\": \"AT322\",\n",
    "\n",
    "    # Steiermark (Styria)\n",
    "    \"Graz(Stadt)\": \"AT221\", \"Deutschlandsberg\": \"AT225\", \"Graz-Umgebung\": \"AT221\", \"Leibnitz\": \"AT225\", \n",
    "    \"Leoben\": \"AT223\", \"Liezen\": \"AT222\", \"Murau\": \"AT226\", \"Voitsberg\": \"AT225\", \"Weiz\": \"AT224\", \n",
    "    \"Murtal\": \"AT226\", \"Bruck-Mürzzuschlag\": \"AT223\", \"Hartberg-Fürstenfeld\": \"AT224\", \"Südoststeiermark\": \"AT224\",\n",
    "\n",
    "    # Tirol (Tyrol)\n",
    "    \"Innsbruck-Stadt\": \"AT332\", \"Imst\": \"AT334\", \"Innsbruck-Land\": \"AT332\", \"Kitzbühel\": \"AT335\", \"Kufstein\": \"AT335\", \n",
    "    \"Landeck\": \"AT334\", \"Lienz\": \"AT333\", \"Reutte\": \"AT331\", \"Schwaz\": \"AT335\",\n",
    "\n",
    "    # Vorarlberg\n",
    "    \"Bludenz\": \"AT341\", \"Bregenz\": \"AT341\", \"Dornbirn\": \"AT342\", \"Feldkirch\": \"AT342\",\n",
    "\n",
    "    # Wien (Vienna)\n",
    "    \"Wien(Stadt)\": \"AT130\"\n",
    "}\n",
    "\n",
    "\n",
    "# Map districts to NUTS 3 regions\n",
    "employment_df['NUTS3_ID'] = employment_df['Name'].map(district_to_nuts3)\n",
    "#print(employment_df.head(5))\n",
    "\n",
    "# Group by NUTS 3 regions and sum employment figures\n",
    "employment_nuts3_df = employment_df.groupby(['NUTS3_ID', 'Year', 'Gender'], as_index=False).sum()\n",
    "employment_nuts3_df = employment_nuts3_df.drop(columns=['ID','Name'])\n",
    "print(employment_nuts3_df.head(5))\n"
   ]
  },
  {
   "cell_type": "markdown",
   "metadata": {},
   "source": [
    "All the datasets were merged into one dataset for further analysis."
   ]
  },
  {
   "cell_type": "code",
   "execution_count": 9,
   "metadata": {},
   "outputs": [
    {
     "name": "stdout",
     "output_type": "stream",
     "text": [
      "  NUTS_ID         NUTS_NAME  \\\n",
      "0   AT111  Mittelburgenland   \n",
      "1   AT111  Mittelburgenland   \n",
      "2   AT111  Mittelburgenland   \n",
      "3   AT111  Mittelburgenland   \n",
      "4   AT111  Mittelburgenland   \n",
      "5   AT111  Mittelburgenland   \n",
      "\n",
      "                                            geometry  Year  Gender  \\\n",
      "0  POLYGON ((1853048.743 6015277.17, 1841177.225 ...  2013  Female   \n",
      "1  POLYGON ((1853048.743 6015277.17, 1841177.225 ...  2013    Male   \n",
      "2  POLYGON ((1853048.743 6015277.17, 1841177.225 ...  2013   total   \n",
      "3  POLYGON ((1853048.743 6015277.17, 1841177.225 ...  2014  Female   \n",
      "4  POLYGON ((1853048.743 6015277.17, 1841177.225 ...  2014    Male   \n",
      "5  POLYGON ((1853048.743 6015277.17, 1841177.225 ...  2014   total   \n",
      "\n",
      "   num_employed region  \n",
      "0          7816  Rural  \n",
      "1          9332  Rural  \n",
      "2         17148  Rural  \n",
      "3          7746  Rural  \n",
      "4          9254  Rural  \n",
      "5         17000  Rural  \n"
     ]
    }
   ],
   "source": [
    "# Merge employment data with regional classification data\n",
    "merged_df = pd.merge(employment_nuts3_df, region_df, left_on='NUTS3_ID', right_on='ID')\n",
    "#print(merged_df.head(6))\n",
    "\n",
    "# Merge with NUTS 3 geometries\n",
    "combined_gdf = nuts3_df.merge(merged_df, left_on='NUTS_ID', right_on='NUTS3_ID')\n",
    "\n",
    "#keep only the required columns\n",
    "combined_gdf = combined_gdf[['NUTS_ID', 'NUTS_NAME','geometry','Year','Gender','num_employed','region']]\n",
    "print(combined_gdf.head(6))\n"
   ]
  },
  {
   "cell_type": "code",
   "execution_count": 10,
   "metadata": {},
   "outputs": [],
   "source": [
    "#  Save as a Geopackage\n",
    "combined_gdf.to_file(\"Data/austria_employment_data.gpkg\", driver=\"GPKG\")\n"
   ]
  },
  {
   "cell_type": "markdown",
   "metadata": {},
   "source": [
    "Data validation"
   ]
  },
  {
   "cell_type": "code",
   "execution_count": 11,
   "metadata": {},
   "outputs": [],
   "source": [
    "# load the merged dataset \n",
    "gdf = gpd.read_file(r\"C:\\Users\\Ethel Ogallo\\Documents\\WS24\\IP-SDI\\IPSDI_PROJECT\\DEFGA\\Data\\austria_employment_data.gpkg\")\n",
    "\n",
    "gdf = gdf[gdf.is_valid]"
   ]
  }
 ],
 "metadata": {
  "kernelspec": {
   "display_name": "Python 3",
   "language": "python",
   "name": "python3"
  },
  "language_info": {
   "codemirror_mode": {
    "name": "ipython",
    "version": 3
   },
   "file_extension": ".py",
   "mimetype": "text/x-python",
   "name": "python",
   "nbconvert_exporter": "python",
   "pygments_lexer": "ipython3",
   "version": "3.13.1"
  }
 },
 "nbformat": 4,
 "nbformat_minor": 2
}
